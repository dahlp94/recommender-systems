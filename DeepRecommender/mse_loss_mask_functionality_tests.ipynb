{
 "cells": [
  {
   "cell_type": "code",
   "execution_count": 4,
   "id": "81b66177-b0bd-49ab-8049-6fba4d6a8c63",
   "metadata": {},
   "outputs": [],
   "source": [
    "import torch\n",
    "import matplotlib.pyplot as plt"
   ]
  },
  {
   "cell_type": "code",
   "execution_count": 5,
   "id": "bef110f1-4618-4e3f-8a57-c899f80bff08",
   "metadata": {},
   "outputs": [],
   "source": [
    "class MSELossWithMask:\n",
    "    def calculate(self, inputs, targets):\n",
    "        # Create a mask: 1 for non-zero targets, 0 for zero targets\n",
    "        mask = (targets != 0).float()\n",
    "        \n",
    "        # Calculate squared error\n",
    "        squared_error = (inputs - targets)**2\n",
    "        \n",
    "        # Apply mask to squared error\n",
    "        masked_error = mask * squared_error\n",
    "        \n",
    "        # Calculate average loss (avoiding division by zero)\n",
    "        total_error = masked_error.sum()\n",
    "        number_of_non_zero_targets = mask.sum().clamp(min=1)\n",
    "        average_loss = total_error / number_of_non_zero_targets\n",
    "        \n",
    "        return average_loss"
   ]
  },
  {
   "cell_type": "code",
   "execution_count": 6,
   "id": "f396465a-621c-4e94-a8b5-cc6f0a307dfd",
   "metadata": {},
   "outputs": [],
   "source": [
    "def visualize(inputs, targets, loss):\n",
    "    fig, (ax1, ax2, ax3) = plt.subplots(1, 3, figsize=(15, 5))\n",
    "    \n",
    "    ax1.imshow(inputs, cmap='Blues')\n",
    "    ax1.set_title('Inputs')\n",
    "    \n",
    "    ax2.imshow(targets, cmap='Blues')\n",
    "    ax2.set_title('Targets')\n",
    "    \n",
    "    mask = (targets != 0).float()\n",
    "    masked_error = mask * (inputs - targets)**2\n",
    "    ax3.imshow(masked_error, cmap='Reds')\n",
    "    ax3.set_title(f'Masked Squared Error\\nLoss: {loss:.4f}')\n",
    "    \n",
    "    plt.tight_layout()\n",
    "    plt.show()"
   ]
  },
  {
   "cell_type": "code",
   "execution_count": 7,
   "id": "9c7ba2a7-47fa-4c36-8c85-67842699b217",
   "metadata": {},
   "outputs": [
    {
     "name": "stdout",
     "output_type": "stream",
     "text": [
      "Inputs:\n",
      "tensor([[1., 2., 3.],\n",
      "        [4., 5., 6.]])\n",
      "\n",
      "Targets:\n",
      "tensor([[0.0000, 2.0000, 3.5000],\n",
      "        [4.0000, 0.0000, 5.5000]])\n",
      "\n",
      "Calculated Loss: 0.1250\n"
     ]
    },
    {
     "data": {
      "image/png": "[encoded data removed]",
      "text/plain": [
       "<Figure size 1500x500 with 3 Axes>"
      ]
     },
     "metadata": {},
     "output_type": "display_data"
    }
   ],
   "source": [
    "# Example usage\n",
    "inputs = torch.tensor([[1.0, 2.0, 3.0], [4.0, 5.0, 6.0]])\n",
    "targets = torch.tensor([[0.0, 2.0, 3.5], [4.0, 0.0, 5.5]])\n",
    "\n",
    "loss_fn = MSELossWithMask()\n",
    "loss = loss_fn.calculate(inputs, targets)\n",
    "\n",
    "print(f\"Inputs:\\n{inputs}\")\n",
    "print(f\"\\nTargets:\\n{targets}\")\n",
    "print(f\"\\nCalculated Loss: {loss.item():.4f}\")\n",
    "\n",
    "visualize(inputs, targets, loss)"
   ]
  },
  {
   "cell_type": "code",
   "execution_count": null,
   "id": "92537f33-3359-4405-b387-2fde42509d03",
   "metadata": {},
   "outputs": [],
   "source": []
  },
  {
   "cell_type": "code",
   "execution_count": null,
   "id": "f2b16f1e-1ea7-4894-b251-70cf268ac2b0",
   "metadata": {},
   "outputs": [],
   "source": []
  },
  {
   "cell_type": "code",
   "execution_count": null,
   "id": "10249c0d-ece0-4f42-a4ac-97ada8ed294f",
   "metadata": {},
   "outputs": [],
   "source": []
  },
  {
   "cell_type": "code",
   "execution_count": null,
   "id": "6bd4cd84-5e9c-4057-af2f-4881618a88e3",
   "metadata": {},
   "outputs": [],
   "source": []
  },
  {
   "cell_type": "code",
   "execution_count": null,
   "id": "2388321a-01f0-4f0b-9e6a-bf982e2a1870",
   "metadata": {},
   "outputs": [],
   "source": []
  },
  {
   "cell_type": "code",
   "execution_count": null,
   "id": "340d58f2-9b98-4766-b79d-3ebdf780d954",
   "metadata": {},
   "outputs": [],
   "source": []
  },
  {
   "cell_type": "code",
   "execution_count": null,
   "id": "93f13c34-24c2-4a84-a733-53012b0650ad",
   "metadata": {},
   "outputs": [],
   "source": []
  },
  {
   "cell_type": "code",
   "execution_count": 3,
   "id": "20db98b1-315b-4c2c-9c71-6414b0a9db38",
   "metadata": {},
   "outputs": [
    {
     "name": "stderr",
     "output_type": "stream",
     "text": [
      "test_all_zeros_target (__main__.TestMSELossWithMask.test_all_zeros_target) ... ok\n",
      "test_large_input (__main__.TestMSELossWithMask.test_large_input) ... ok\n",
      "test_mask_functionality (__main__.TestMSELossWithMask.test_mask_functionality) ... ok\n",
      "test_multi_dimensional_input (__main__.TestMSELossWithMask.test_multi_dimensional_input) ... ok\n",
      "test_nonzero_loss (__main__.TestMSELossWithMask.test_nonzero_loss) ... ok\n",
      "test_zero_loss (__main__.TestMSELossWithMask.test_zero_loss) ... ok\n",
      "\n",
      "----------------------------------------------------------------------\n",
      "Ran 6 tests in 0.016s\n",
      "\n",
      "OK\n"
     ]
    }
   ],
   "source": [
    "import unittest\n",
    "import torch\n",
    "import torch.nn as nn\n",
    "\n",
    "class MSELossWithMask(nn.Module):\n",
    "    def __init__(self):\n",
    "        super(MSELossWithMask, self).__init__()\n",
    "\n",
    "    def forward(self, inputs: torch.Tensor, targets: torch.Tensor) -> torch.Tensor:\n",
    "        mask = (targets != 0).float()\n",
    "        number_ratings = torch.clamp(mask.sum(), min=1.0)\n",
    "        squared_error = (targets - inputs).pow(2)\n",
    "        masked_error = (mask * squared_error).sum()\n",
    "        loss = masked_error / number_ratings\n",
    "        return loss\n",
    "\n",
    "class TestMSELossWithMask(unittest.TestCase):\n",
    "    def setUp(self):\n",
    "        self.loss_fn = MSELossWithMask()\n",
    "\n",
    "    def test_zero_loss(self):\n",
    "        inputs = torch.tensor([[1.0, 2.0, 3.0]])\n",
    "        targets = torch.tensor([[1.0, 2.0, 3.0]])\n",
    "        loss = self.loss_fn(inputs, targets)\n",
    "        self.assertAlmostEqual(loss.item(), 0.0, places=6)\n",
    "\n",
    "    def test_nonzero_loss(self):\n",
    "        inputs = torch.tensor([[1.0, 2.0, 3.0]])\n",
    "        targets = torch.tensor([[2.0, 3.0, 4.0]])\n",
    "        loss = self.loss_fn(inputs, targets)\n",
    "        self.assertGreater(loss.item(), 0.0)\n",
    "\n",
    "    def test_mask_functionality(self):\n",
    "        inputs = torch.tensor([[1.0, 2.0, 3.0]])\n",
    "        targets = torch.tensor([[0.0, 2.0, 3.0]])\n",
    "        loss = self.loss_fn(inputs, targets)\n",
    "        expected_loss = ((2.0 - 2.0)**2 + (3.0 - 3.0)**2) / 2\n",
    "        self.assertAlmostEqual(loss.item(), expected_loss, places=6)\n",
    "\n",
    "    def test_all_zeros_target(self):\n",
    "        inputs = torch.tensor([[1.0, 2.0, 3.0]])\n",
    "        targets = torch.tensor([[0.0, 0.0, 0.0]])\n",
    "        loss = self.loss_fn(inputs, targets)\n",
    "        self.assertAlmostEqual(loss.item(), 0.0, places=6)\n",
    "\n",
    "    def test_multi_dimensional_input(self):\n",
    "        inputs = torch.tensor([[[1.0, 2.0], [3.0, 4.0]]])\n",
    "        targets = torch.tensor([[[1.0, 0.0], [0.0, 4.0]]])\n",
    "        loss = self.loss_fn(inputs, targets)\n",
    "        expected_loss = ((1.0 - 1.0)**2 + (4.0 - 4.0)**2) / 2\n",
    "        self.assertAlmostEqual(loss.item(), expected_loss, places=6)\n",
    "\n",
    "    def test_large_input(self):\n",
    "        inputs = torch.rand(100, 100)\n",
    "        targets = torch.rand(100, 100)\n",
    "        loss = self.loss_fn(inputs, targets)\n",
    "        self.assertIsInstance(loss.item(), float)\n",
    "\n",
    "# Function to run all tests\n",
    "def run_tests():\n",
    "    suite = unittest.TestLoader().loadTestsFromTestCase(TestMSELossWithMask)\n",
    "    runner = unittest.TextTestRunner(verbosity=2)\n",
    "    runner.run(suite)\n",
    "\n",
    "# Run this cell to execute the tests\n",
    "run_tests()"
   ]
  },
  {
   "cell_type": "code",
   "execution_count": null,
   "id": "2b176827-e52f-48b4-8a6b-e80d77772c45",
   "metadata": {},
   "outputs": [],
   "source": []
  }
 ],
 "metadata": {
  "kernelspec": {
   "display_name": "Python 3 (ipykernel)",
   "language": "python",
   "name": "python3"
  },
  "language_info": {
   "codemirror_mode": {
    "name": "ipython",
    "version": 3
   },
   "file_extension": ".py",
   "mimetype": "text/x-python",
   "name": "python",
   "nbconvert_exporter": "python",
   "pygments_lexer": "ipython3",
   "version": "3.12.5"
  }
 },
 "nbformat": 4,
 "nbformat_minor": 5
}
