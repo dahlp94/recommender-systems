{
 "cells": [
  {
   "cell_type": "code",
   "execution_count": 3,
   "id": "20db98b1-315b-4c2c-9c71-6414b0a9db38",
   "metadata": {},
   "outputs": [
    {
     "name": "stderr",
     "output_type": "stream",
     "text": [
      "test_all_zeros_target (__main__.TestMSELossWithMask.test_all_zeros_target) ... ok\n",
      "test_large_input (__main__.TestMSELossWithMask.test_large_input) ... ok\n",
      "test_mask_functionality (__main__.TestMSELossWithMask.test_mask_functionality) ... ok\n",
      "test_multi_dimensional_input (__main__.TestMSELossWithMask.test_multi_dimensional_input) ... ok\n",
      "test_nonzero_loss (__main__.TestMSELossWithMask.test_nonzero_loss) ... ok\n",
      "test_zero_loss (__main__.TestMSELossWithMask.test_zero_loss) ... ok\n",
      "\n",
      "----------------------------------------------------------------------\n",
      "Ran 6 tests in 0.016s\n",
      "\n",
      "OK\n"
     ]
    }
   ],
   "source": [
    "import unittest\n",
    "import torch\n",
    "import torch.nn as nn\n",
    "\n",
    "class MSELossWithMask(nn.Module):\n",
    "    def __init__(self):\n",
    "        super(MSELossWithMask, self).__init__()\n",
    "\n",
    "    def forward(self, inputs: torch.Tensor, targets: torch.Tensor) -> torch.Tensor:\n",
    "        mask = (targets != 0).float()\n",
    "        number_ratings = torch.clamp(mask.sum(), min=1.0)\n",
    "        squared_error = (targets - inputs).pow(2)\n",
    "        masked_error = (mask * squared_error).sum()\n",
    "        loss = masked_error / number_ratings\n",
    "        return loss\n",
    "\n",
    "class TestMSELossWithMask(unittest.TestCase):\n",
    "    def setUp(self):\n",
    "        self.loss_fn = MSELossWithMask()\n",
    "\n",
    "    def test_zero_loss(self):\n",
    "        inputs = torch.tensor([[1.0, 2.0, 3.0]])\n",
    "        targets = torch.tensor([[1.0, 2.0, 3.0]])\n",
    "        loss = self.loss_fn(inputs, targets)\n",
    "        self.assertAlmostEqual(loss.item(), 0.0, places=6)\n",
    "\n",
    "    def test_nonzero_loss(self):\n",
    "        inputs = torch.tensor([[1.0, 2.0, 3.0]])\n",
    "        targets = torch.tensor([[2.0, 3.0, 4.0]])\n",
    "        loss = self.loss_fn(inputs, targets)\n",
    "        self.assertGreater(loss.item(), 0.0)\n",
    "\n",
    "    def test_mask_functionality(self):\n",
    "        inputs = torch.tensor([[1.0, 2.0, 3.0]])\n",
    "        targets = torch.tensor([[0.0, 2.0, 3.0]])\n",
    "        loss = self.loss_fn(inputs, targets)\n",
    "        expected_loss = ((2.0 - 2.0)**2 + (3.0 - 3.0)**2) / 2\n",
    "        self.assertAlmostEqual(loss.item(), expected_loss, places=6)\n",
    "\n",
    "    def test_all_zeros_target(self):\n",
    "        inputs = torch.tensor([[1.0, 2.0, 3.0]])\n",
    "        targets = torch.tensor([[0.0, 0.0, 0.0]])\n",
    "        loss = self.loss_fn(inputs, targets)\n",
    "        self.assertAlmostEqual(loss.item(), 0.0, places=6)\n",
    "\n",
    "    def test_multi_dimensional_input(self):\n",
    "        inputs = torch.tensor([[[1.0, 2.0], [3.0, 4.0]]])\n",
    "        targets = torch.tensor([[[1.0, 0.0], [0.0, 4.0]]])\n",
    "        loss = self.loss_fn(inputs, targets)\n",
    "        expected_loss = ((1.0 - 1.0)**2 + (4.0 - 4.0)**2) / 2\n",
    "        self.assertAlmostEqual(loss.item(), expected_loss, places=6)\n",
    "\n",
    "    def test_large_input(self):\n",
    "        inputs = torch.rand(100, 100)\n",
    "        targets = torch.rand(100, 100)\n",
    "        loss = self.loss_fn(inputs, targets)\n",
    "        self.assertIsInstance(loss.item(), float)\n",
    "\n",
    "# Function to run all tests\n",
    "def run_tests():\n",
    "    suite = unittest.TestLoader().loadTestsFromTestCase(TestMSELossWithMask)\n",
    "    runner = unittest.TextTestRunner(verbosity=2)\n",
    "    runner.run(suite)\n",
    "\n",
    "# Run this cell to execute the tests\n",
    "run_tests()"
   ]
  },
  {
   "cell_type": "code",
   "execution_count": null,
   "id": "a4c4e10c-65ca-4b06-9439-35a0a812272b",
   "metadata": {},
   "outputs": [],
   "source": []
  }
 ],
 "metadata": {
  "kernelspec": {
   "display_name": "Python 3 (ipykernel)",
   "language": "python",
   "name": "python3"
  },
  "language_info": {
   "codemirror_mode": {
    "name": "ipython",
    "version": 3
   },
   "file_extension": ".py",
   "mimetype": "text/x-python",
   "name": "python",
   "nbconvert_exporter": "python",
   "pygments_lexer": "ipython3",
   "version": "3.12.5"
  }
 },
 "nbformat": 4,
 "nbformat_minor": 5
}
